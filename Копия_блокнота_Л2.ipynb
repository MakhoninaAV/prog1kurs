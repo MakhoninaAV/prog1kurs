{
  "nbformat": 4,
  "nbformat_minor": 0,
  "metadata": {
    "colab": {
      "provenance": [],
      "authorship_tag": "ABX9TyNXTs8JbwaXVPXeZv+LFsJ3",
      "include_colab_link": true
    },
    "kernelspec": {
      "name": "python3",
      "display_name": "Python 3"
    },
    "language_info": {
      "name": "python"
    }
  },
  "cells": [
    {
      "cell_type": "markdown",
      "metadata": {
        "id": "view-in-github",
        "colab_type": "text"
      },
      "source": [
        "<a href=\"https://colab.research.google.com/github/MakhoninaAV/prog1kurs/blob/main/%D0%9A%D0%BE%D0%BF%D0%B8%D1%8F_%D0%B1%D0%BB%D0%BE%D0%BA%D0%BD%D0%BE%D1%82%D0%B0_%D0%9B2.ipynb\" target=\"_parent\"><img src=\"https://colab.research.google.com/assets/colab-badge.svg\" alt=\"Open In Colab\"/></a>"
      ]
    },
    {
      "cell_type": "code",
      "execution_count": 1,
      "metadata": {
        "colab": {
          "base_uri": "https://localhost:8080/"
        },
        "id": "uICqGQTDXsF1",
        "outputId": "116538da-edbd-4115-9849-2ed66991aec5"
      },
      "outputs": [
        {
          "output_type": "stream",
          "name": "stdout",
          "text": [
            "Введите число x: 8\n",
            "f = 66.83\n"
          ]
        }
      ],
      "source": [
        "# Задание task_02_01.\n",
        "#\n",
        "# Выполнил: Махонина А.В.\n",
        "# Группа: ЦИБ-241\n",
        "\n",
        "x = float(input(\"Введите число x: \"))\n",
        "\n",
        "if x >= 0:\n",
        "    f = x**0.5 + x**2\n",
        "else:\n",
        "    f = 1 / x\n",
        "\n",
        "print(f\"f = {f:.2f}\")\n",
        "\n",
        "# --------------\n",
        "# Пример вывода:\n",
        "#\n",
        "# Введите число x: -10\n",
        "# f = -0.10\n",
        "\n",
        "# Введите число x: 0\n",
        "# f = 0.00\n",
        "\n",
        "# Введите число x: 10\n",
        "# f = 103.16"
      ]
    },
    {
      "cell_type": "markdown",
      "source": [],
      "metadata": {
        "id": "mvLHa_OEiVws"
      }
    },
    {
      "cell_type": "code",
      "source": [
        "# Программирование на языке высокого уровня (Python).\n",
        "# https://www.yuripetrov.ru/edu/python\n",
        "# Задание task_02_02.\n",
        "#\n",
        "# Выполнил: Махонина А.В.\n",
        "# Группа: ЦИБ-241\n",
        "\n",
        "a1 = int(input(\"Введите первое число: \"))\n",
        "a2 = int(input(\"Введите второе число: \"))\n",
        "\n",
        "# Переменная 'a_min' должна содержать минимум, 'a_max' - максимум\n",
        "a_min = min(a1, a2)\n",
        "a_max = max(a1, a2)\n",
        "\n",
        "print(f\"Максимум: {a_max}, минимум: {a_min}\")\n",
        "\n",
        "# --------------\n",
        "# Пример вывода:\n",
        "#\n",
        "# Введите первое число: 1\n",
        "# Введите второе число: 2\n",
        "# Максимум: 2, минимум: 1\n",
        "\n",
        "# Введите первое число: 5\n",
        "# Введите второе число: 5\n",
        "# Максимум: 5, минимум: 5\n",
        "\n",
        "# Введите первое число: 100\n",
        "# Введите второе число: -1\n",
        "# Максимум: 100, минимум: -1"
      ],
      "metadata": {
        "colab": {
          "base_uri": "https://localhost:8080/"
        },
        "id": "36KfUnGXYMfF",
        "outputId": "30650b9d-0cdd-4922-b5ad-88507d978db5"
      },
      "execution_count": 2,
      "outputs": [
        {
          "output_type": "stream",
          "name": "stdout",
          "text": [
            "Введите первое число: 3\n",
            "Введите второе число: 4\n",
            "Максимум: 4, минимум: 3\n"
          ]
        }
      ]
    },
    {
      "cell_type": "code",
      "source": [
        "# Задание task_02_03.\n",
        "#\n",
        "# Выполнил: Махонина А.В.\n",
        "# Группа: ЦИБ-241\n",
        "\n",
        "a = int(input(\"Ширина форточки: \"))\n",
        "b = int(input(\"Высота форточки: \"))\n",
        "d = int(input(\"Диаметр головы: \"))\n",
        "\n",
        "# Введенные числа должны быть положительными, если так - осуществляем расчет\n",
        "# иначе выводим \"Проверьте ввод\".\n",
        "if a > 0 and b > 0 and d > 0:\n",
        "    fix = 1  # Зазор (1 см)\n",
        "\n",
        "    # Сравниваем размеры форточки с диаметром головы + 2 см (по 1 см с двух сторон).\n",
        "    if a >= d + 2*fix and b >= d + 2*fix:\n",
        "        print(\"Да\")\n",
        "    else:\n",
        "        print(\"Нет\")\n",
        "else:\n",
        "    print(\"Проверьте ввод\")\n",
        "\n",
        "# --------------\n",
        "# Пример вывода:\n",
        "#\n",
        "# Ширина форточки: 5\n",
        "# Высота форточки: 6\n",
        "# Диаметр головы: 6\n",
        "# Нет\n",
        "\n",
        "# Ширина форточки: 6\n",
        "# Высота форточки: 7\n",
        "# Диаметр головы: 4\n",
        "# Да\n"
      ],
      "metadata": {
        "colab": {
          "base_uri": "https://localhost:8080/"
        },
        "id": "a67g2klTjCMw",
        "outputId": "b3539e66-bd58-413e-a1bc-36fed717a9d9"
      },
      "execution_count": 3,
      "outputs": [
        {
          "output_type": "stream",
          "name": "stdout",
          "text": [
            "Ширина форточки: 3\n",
            "Высота форточки: 4\n",
            "Диаметр головы: 6\n",
            "Нет\n"
          ]
        }
      ]
    },
    {
      "cell_type": "code",
      "source": [
        "# Задание task_02_04.\n",
        "#\n",
        "# Выполнил: Махонина А.В.\n",
        "# Группа: ЦИБ-241\n",
        "\n",
        "year_today = int(input(\"Введите текущий год: \"))\n",
        "month_today = int(input(\"Введите текущий месяц: \"))\n",
        "\n",
        "year = int(input(\"Введите год рождения: \"))\n",
        "month = int(input(\"Введите месяц рождения: \"))\n",
        "\n",
        "# Считаем возраст: если номер текущего месяца меньше месяца рождения,\n",
        "# год еще не \"полностью\" прошел, поэтому вычитаем 1.\n",
        "if month_today < month:\n",
        "    age = year_today - year - 1\n",
        "else:\n",
        "    age = year_today - year\n",
        "\n",
        "print(\"Число полных лет: \", age)\n",
        "\n",
        "# --------------\n",
        "# Пример вывода:\n",
        "#\n",
        "# Введите текущий год: 2017\n",
        "# Введите текущий месяц: 5\n",
        "# Введите год рождения: 2000\n",
        "# Введите месяц рождения: 1\n",
        "# Число полных лет:  17\n",
        "#\n",
        "# Введите текущий год: 2015\n",
        "# Введите текущий месяц: 6\n",
        "# Введите год рождения: 2010\n",
        "# Введите месяц рождения: 8\n",
        "# Число полных лет:  4\n",
        "#\n",
        "# Введите текущий год: 2020\n",
        "# Введите текущий месяц: 5\n",
        "# Введите год рождения: 2000\n",
        "# Введите месяц рождения: 5\n",
        "# Число полных лет:  20"
      ],
      "metadata": {
        "colab": {
          "base_uri": "https://localhost:8080/"
        },
        "id": "YuecrCqPj_EE",
        "outputId": "faa8b3ed-d519-4bd6-f9b2-57852496e9a9"
      },
      "execution_count": 4,
      "outputs": [
        {
          "output_type": "stream",
          "name": "stdout",
          "text": [
            "Введите текущий год: 2015\n",
            "Введите текущий месяц: 6\n",
            "Введите год рождения: 2010\n",
            "Введите месяц рождения: 20\n",
            "Число полных лет:  4\n"
          ]
        }
      ]
    },
    {
      "cell_type": "code",
      "source": [
        "\n",
        "# Задание task_02_05.\n",
        "#\n",
        "# Выполнил: Махонина А.В.\n",
        "# Группа: ЦИБ-241\n",
        "\n",
        "# Считываем координату x\n",
        "x = int(input(\"Введите координату x: \"))\n",
        "# Считываем координату y\n",
        "y = int(input(\"Введите координату y: \"))\n",
        "\n",
        "if x > 0 and y > 0:\n",
        "    print(\"1-я четверть\")\n",
        "elif x < 0 and y > 0:\n",
        "    print(\"2-я четверть\")\n",
        "elif x < 0 and y < 0:\n",
        "    print(\"3-я четверть\")\n",
        "elif x > 0 and y < 0:\n",
        "    print(\"4-я четверть\")\n",
        "\n",
        "# --------------\n",
        "# Пример вывода:\n",
        "#\n",
        "# Введите координату x: 5\n",
        "# Введите координату y: 7\n",
        "# 1-я четверть"
      ],
      "metadata": {
        "id": "en_TXV19lat-",
        "colab": {
          "base_uri": "https://localhost:8080/"
        },
        "outputId": "6976df68-b731-4d9b-de2e-2c10b4c6b450"
      },
      "execution_count": 5,
      "outputs": [
        {
          "output_type": "stream",
          "name": "stdout",
          "text": [
            "Введите координату x: 4\n",
            "Введите координату y: 2\n",
            "1-я четверть\n"
          ]
        }
      ]
    },
    {
      "cell_type": "code",
      "source": [
        "# Задание task_02_06.\n",
        "#\n",
        "# Выполнил: Махонина А.В.\n",
        "# Группа: ЦИБ-241\n",
        "\n",
        "# Ввод коэффициентов уравнения (a, b, c). a ≠ 0.\n",
        "a = float(input(\"a = \"))\n",
        "b = float(input(\"b = \"))\n",
        "c = float(input(\"c = \"))\n",
        "\n",
        "# Расчет дискриминанта\n",
        "d = b**2 - 4 * a * c\n",
        "\n",
        "# Вывод решения в зависимости от значения дискриминанта\n",
        "if d < 0:\n",
        "\n",
        "    print(\"Решений нет\")\n",
        "elif d == 0:\n",
        "\n",
        "    x = -b / (2 * a)\n",
        "    print(f\"x = {x:.1f}\")\n",
        "else:\n",
        "\n",
        "    from math import sqrt\n",
        "    x1 = (-b - sqrt(d)) / (2 * a)\n",
        "    x2 = (-b + sqrt(d)) / (2 * a)\n",
        "    print(f\"x1 = {x1:.1f}, x2 = {x2:.1f}\")\n",
        "\n",
        "# --------------\n",
        "# Пример вывода:\n",
        "#\n",
        "# a = 1\n",
        "# b = 2\n",
        "# c = 3\n",
        "# Решений нет\n",
        "#\n",
        "# a = 1\n",
        "# b = 2\n",
        "# c = 1\n",
        "# x = -1.0\n",
        "#\n",
        "# a = 1\n",
        "# b = 3\n",
        "# c = -4\n",
        "# x1 = -4.0, x2 = 1.0"
      ],
      "metadata": {
        "colab": {
          "base_uri": "https://localhost:8080/"
        },
        "id": "786Kdvzwl7w0",
        "outputId": "b3ae0ea1-4554-4219-f191-9b4b56626f24"
      },
      "execution_count": 6,
      "outputs": [
        {
          "output_type": "stream",
          "name": "stdout",
          "text": [
            "a = 1\n",
            "b = 2\n",
            "c = 5\n",
            "Решений нет\n"
          ]
        }
      ]
    },
    {
      "cell_type": "code",
      "source": [
        "# Задание task_02_07.\n",
        "#\n",
        "# Выполнил: Махонина А.В.\n",
        "# Группа: ЦИБ-241\n",
        "\n",
        "nums_sum = 0  # сумма\n",
        "nums_count = 0  # количество\n",
        "\n",
        "x = int(input(f\"Введите {nums_count + 1}-е число: \"))\n",
        "while x != 0:\n",
        "    nums_sum += x\n",
        "    nums_count += 1\n",
        "    x = int(input(f\"Введите {nums_count + 1}-е число: \"))\n",
        "\n",
        "print(f\"Сумма = {nums_sum}\")\n",
        "print(f\"Количество = {nums_count}\")\n",
        "\n",
        "# --------------\n",
        "# Пример вывода:\n",
        "#\n",
        "# Введите 1-е число: 1\n",
        "# Введите 2-е число: 2\n",
        "# Введите 3-е число: 3\n",
        "# Введите 4-е число: 4\n",
        "# Введите 5-е число: 0\n",
        "# Сумма = 10\n",
        "# Количество = 4\n",
        "#\n",
        "# Введите 1-е число: 0\n",
        "# Сумма = 0\n",
        "# Количество = 0"
      ],
      "metadata": {
        "id": "4QgSi9aPsBPN",
        "colab": {
          "base_uri": "https://localhost:8080/"
        },
        "outputId": "68b5a831-ed2f-427d-9cf5-bbe21608cbb1"
      },
      "execution_count": 7,
      "outputs": [
        {
          "output_type": "stream",
          "name": "stdout",
          "text": [
            "Введите 1-е число: 1\n",
            "Введите 2-е число: 2\n",
            "Введите 3-е число: 5\n",
            "Введите 4-е число: 6\n",
            "Введите 5-е число: 7\n",
            "Введите 6-е число: 2\n",
            "Введите 7-е число: 1\n",
            "Введите 8-е число: 0\n",
            "Сумма = 24\n",
            "Количество = 7\n"
          ]
        }
      ]
    },
    {
      "cell_type": "code",
      "source": [
        "# Задание task_02_08.\n",
        "#\n",
        "# Выполнил: Махонина А.В.\n",
        "# Группа: ЦИБ-241\n",
        "\n",
        "n = int(input(\"n = \"))\n",
        "\n",
        "i = 0\n",
        "while i <= n:\n",
        "    print(i)\n",
        "    i += 5\n",
        "\n",
        "# --------------\n",
        "# Пример вывода:\n",
        "#\n",
        "# n = 0\n",
        "# 0\n",
        "#\n",
        "# n = 10\n",
        "# 0\n",
        "# 5\n",
        "# 10\n",
        "#\n",
        "# n = 12\n",
        "# 0\n",
        "# 5\n",
        "# 10"
      ],
      "metadata": {
        "colab": {
          "base_uri": "https://localhost:8080/"
        },
        "id": "RiYZMoz8svTy",
        "outputId": "eb74f740-6950-4c8a-ccc1-42b8bce85e4a"
      },
      "execution_count": 8,
      "outputs": [
        {
          "output_type": "stream",
          "name": "stdout",
          "text": [
            "n = 13\n",
            "0\n",
            "5\n",
            "10\n"
          ]
        }
      ]
    },
    {
      "cell_type": "code",
      "source": [
        "# Задание task_02_09.\n",
        "#\n",
        "# Выполнил: Махонина А.В.\n",
        "# Группа: ЦИБ-241\n",
        "\n",
        "a = float(input(\"Введите число a: \"))\n",
        "\n",
        "n = 1\n",
        "x_sum = 0\n",
        "\n",
        "while x_sum <= a:\n",
        "    x_sum += 1 / n\n",
        "    n += 1\n",
        "\n",
        "n -= 1\n",
        "\n",
        "print(\"\\nРезультат:\")\n",
        "print(f\"a = {a}\")\n",
        "print(f\"n = {n}\")\n",
        "\n",
        "# --------------\n",
        "# Пример вывода:\n",
        "#\n",
        "# a = 1.5\n",
        "# n = 3\n",
        "#\n",
        "# a = 2\n",
        "# n = 4"
      ],
      "metadata": {
        "colab": {
          "base_uri": "https://localhost:8080/"
        },
        "id": "mETCa9yltJ2R",
        "outputId": "2f09d2b1-0629-49a9-9853-434e2da8e08f"
      },
      "execution_count": 9,
      "outputs": [
        {
          "output_type": "stream",
          "name": "stdout",
          "text": [
            "Введите число a: 3\n",
            "\n",
            "Результат:\n",
            "a = 3.0\n",
            "n = 11\n"
          ]
        }
      ]
    },
    {
      "cell_type": "code",
      "source": [
        "# Задание task_02_10.\n",
        "#\n",
        "# Выполнил: Махонина А.В.\n",
        "# Группа: ЦИБ-241\n",
        "# E-mail: makhoninaav432@mgpu.ru\n",
        "\n",
        "n = int(input(\"Введите натуральное число: \"))\n",
        "\n",
        "n_sum = 0\n",
        "n_count = 0\n",
        "\n",
        "temp = n\n",
        "\n",
        "while temp > 0:\n",
        "    digit = temp % 10\n",
        "    n_sum += digit\n",
        "    n_count += 1\n",
        "    temp //= 10\n",
        "\n",
        "\n",
        "print(\"n =\", n)\n",
        "print(\"Сумма =\", n_sum)\n",
        "print(\"Количество =\", n_count)\n",
        "\n",
        "# --------------\n",
        "# Пример вывода:\n",
        "#\n",
        "# n = 12345\n",
        "# Сумма = 15\n",
        "# Количество = 5"
      ],
      "metadata": {
        "id": "s_IXTc3Xtshh",
        "colab": {
          "base_uri": "https://localhost:8080/"
        },
        "outputId": "6b1308bb-e19e-44e7-fb4e-576ada0f7a8b"
      },
      "execution_count": 10,
      "outputs": [
        {
          "output_type": "stream",
          "name": "stdout",
          "text": [
            "Введите натуральное число: 12345\n",
            "n = 12345\n",
            "Сумма = 15\n",
            "Количество = 5\n"
          ]
        }
      ]
    },
    {
      "cell_type": "code",
      "source": [
        "# Задание task_02_11.\n",
        "#\n",
        "# Выполнил: Махонина А.В.\n",
        "# Группа: ЦИБ-241\n",
        "\n",
        "start = int(input(\"Введите start: \"))\n",
        "k = int(input(\"Введите k: \"))\n",
        "s = int(input(\"Введите s: \"))\n",
        "n_count = 0\n",
        "\n",
        "num = start + 1\n",
        "while n_count < 10:\n",
        "    if num % 10 == k and num % s == 0:\n",
        "        print(num, end=\" \")\n",
        "        n_count += 1\n",
        "    num += 1\n",
        "# --------------\n",
        "# Пример вывода:\n",
        "#\n",
        "# start = 100\n",
        "# k = 7\n",
        "# s = 9\n",
        "# 117 207 297 387 477 567 657 747 837 927"
      ],
      "metadata": {
        "colab": {
          "base_uri": "https://localhost:8080/"
        },
        "id": "mQkCneGoHjvQ",
        "outputId": "b069cea4-d54b-4040-8c0b-0743101839d3"
      },
      "execution_count": 11,
      "outputs": [
        {
          "output_type": "stream",
          "name": "stdout",
          "text": [
            "Введите start: 13\n",
            "Введите k: 2\n",
            "Введите s: 4\n",
            "32 52 72 92 112 132 152 172 192 212 "
          ]
        }
      ]
    },
    {
      "cell_type": "code",
      "source": [
        "# Задание task_02_12.\n",
        "#\n",
        "# Выполнил: Махонина А.В.\n",
        "# Группа: ЦИБ-241\n",
        "\n",
        "a = int(input(\"Введите a: \"))\n",
        "b = int(input(\"Введите b: \"))\n",
        "\n",
        "min_num = min(a, b)\n",
        "max_num = max(a, b)\n",
        "\n",
        "for i in range(min_num, max_num + 1):\n",
        "    print(i, end=\" \")\n",
        "print()\n",
        "\n",
        "for i in range(max_num, min_num - 1, -1):\n",
        "    print(i)\n",
        "\n",
        "# --------------\n",
        "# Пример вывода:\n",
        "#\n",
        "# a = 1\n",
        "# b = 5\n",
        "# 1 2 3 4 5\n",
        "# 5\n",
        "# 4\n",
        "# 3\n",
        "# 2\n",
        "# 1"
      ],
      "metadata": {
        "colab": {
          "base_uri": "https://localhost:8080/"
        },
        "id": "QJD5GTjrLOBd",
        "outputId": "bd20803a-1dff-4fbc-a414-a62e5af21adf"
      },
      "execution_count": 12,
      "outputs": [
        {
          "output_type": "stream",
          "name": "stdout",
          "text": [
            "Введите a: 2\n",
            "Введите b: 4\n",
            "2 3 4 \n",
            "4\n",
            "3\n",
            "2\n"
          ]
        }
      ]
    },
    {
      "cell_type": "code",
      "source": [
        "# Программирование на языке высокого уровня (Python).\n",
        "# https://www.yuripetrov.ru/edu/python\n",
        "# Задание task_02_13.\n",
        "#\n",
        "# Выполнил: Махонина А.В.\n",
        "# Группа: ЦИБ-241\n",
        "# E-mail: makhoninaav432@mgpu.ru\n",
        "\n",
        "import math\n",
        "\n",
        "a = int(input(\"Введите a: \"))\n",
        "b = int(input(\"Введите b: \"))\n",
        "\n",
        "n_sum = 0\n",
        "n_mult = 1\n",
        "odd_mult = 1\n",
        "odd_count = 0\n",
        "\n",
        "for i in range(a, b + 1):\n",
        "    n_sum += i\n",
        "    n_mult *= i\n",
        "    if i % 2 != 0:\n",
        "        odd_mult *= i\n",
        "        odd_count += 1\n",
        "\n",
        "n_avg = n_sum / (b - a + 1)\n",
        "\n",
        "if odd_count > 0:\n",
        "    n_avg_geom = math.pow(odd_mult, 1 / odd_count)\n",
        "else:\n",
        "    n_avg_geom = 0\n",
        "\n",
        "print(\"Сумма =\", n_sum)\n",
        "print(\"Произведение =\", n_mult)\n",
        "print(\"Среднее арифметическое = {:.2f}\".format(n_avg))\n",
        "print(\"Среднее геометрическое нечетных чисел = {:.2f}\".format(n_avg_geom))\n",
        "\n",
        "# --------------\n",
        "# Пример вывода:\n",
        "#\n",
        "# a = 1\n",
        "# b = 5\n",
        "# Сумма = 15\n",
        "# Произведение = 120\n",
        "# Среднее арифметическое = 3.00\n",
        "# Среднее геометрическое нечетных чисел = 2.47"
      ],
      "metadata": {
        "colab": {
          "base_uri": "https://localhost:8080/"
        },
        "id": "uwaHj9GyNtg2",
        "outputId": "b240cc65-2fdb-4f01-814b-c772a3ea3bc9"
      },
      "execution_count": 13,
      "outputs": [
        {
          "output_type": "stream",
          "name": "stdout",
          "text": [
            "Введите a: 3\n",
            "Введите b: 5\n",
            "Сумма = 12\n",
            "Произведение = 60\n",
            "Среднее арифметическое = 4.00\n",
            "Среднее геометрическое нечетных чисел = 3.87\n"
          ]
        }
      ]
    },
    {
      "cell_type": "code",
      "source": [
        "# Задание task_02_14.\n",
        "#\n",
        "# Выполнил: Махонина А.В.\n",
        "# Группа: ЦИБ-241\n",
        "\n",
        "s = float(input(\"Пробег за 1-й день (км.) = \"))\n",
        "p = float(input(\"На сколько увеличивает пробег (%) = \"))\n",
        "\n",
        "total = s\n",
        "current_distance = s\n",
        "\n",
        "for day in range(2, 11):\n",
        "    current_distance = current_distance * (1 + p / 100)\n",
        "    total += current_distance\n",
        "    print(\"Пробег за {}-й день: {:.1f} км.\".format(day, current_distance))\n",
        "\n",
        "print(\"Суммарный пробег: {:.1f} км.\".format(total))\n",
        "\n",
        "# --------------\n",
        "# Пример вывода:\n",
        "#\n",
        "# Пробег за 1-й день (км.) = 5\n",
        "# На сколько увеличивает пробег (%) = 10\n",
        "# Пробег за 2-й день: 5.5 км.\n",
        "# Пробег за 3-й день: 6.1 км.\n",
        "# Пробег за 4-й день: 6.7 км.\n",
        "# Пробег за 5-й день: 7.3 км.\n",
        "# Пробег за 6-й день: 8.1 км.\n",
        "# Пробег за 7-й день: 8.9 км.\n",
        "# Пробег за 8-й день: 9.7 км.\n",
        "# Пробег за 9-й день: 10.7 км.\n",
        "# Пробег за 10-й день: 11.8 км.\n",
        "# Суммарный пробег: 79.7 км."
      ],
      "metadata": {
        "id": "LV0ifLJ9bYmK",
        "colab": {
          "base_uri": "https://localhost:8080/"
        },
        "outputId": "586b564d-67bf-45db-9e04-95509559493e"
      },
      "execution_count": 14,
      "outputs": [
        {
          "output_type": "stream",
          "name": "stdout",
          "text": [
            "Пробег за 1-й день (км.) = 5\n",
            "На сколько увеличивает пробег (%) = 10\n",
            "Пробег за 2-й день: 5.5 км.\n",
            "Пробег за 3-й день: 6.1 км.\n",
            "Пробег за 4-й день: 6.7 км.\n",
            "Пробег за 5-й день: 7.3 км.\n",
            "Пробег за 6-й день: 8.1 км.\n",
            "Пробег за 7-й день: 8.9 км.\n",
            "Пробег за 8-й день: 9.7 км.\n",
            "Пробег за 9-й день: 10.7 км.\n",
            "Пробег за 10-й день: 11.8 км.\n",
            "Суммарный пробег: 79.7 км.\n"
          ]
        }
      ]
    },
    {
      "cell_type": "code",
      "source": [
        "# Задание task_02_15.\n",
        "#\n",
        "# Выполнил: Махонина А.В.\n",
        "# Группа: ЦИБ-241\n",
        "\n",
        "p = float(input(\"Грузоподъемность грузовика (кг.) = \"))\n",
        "n = int(input(\"Количество предметов = \"))\n",
        "\n",
        "total = 0\n",
        "for i in range(1, n + 1):\n",
        "    mass = float(input(f\"Масса {i}-го предмета (кг.) = \"))\n",
        "    total += mass\n",
        "\n",
        "if total <= p:\n",
        "    print(\"Да\")\n",
        "else:\n",
        "    print(\"Нет\")\n",
        "\n",
        "# --------------\n",
        "# Пример вывода:\n",
        "#\n",
        "# Грузоподъемность грузовика (кг.) = 10\n",
        "# Количество предметов = 2\n",
        "# Масса 1-го предмета (кг.) = 3\n",
        "# Масса 2-го предмета (кг.) = 3\n",
        "# Да"
      ],
      "metadata": {
        "colab": {
          "base_uri": "https://localhost:8080/"
        },
        "id": "R2ii8rkGd7PS",
        "outputId": "b88eeb81-4712-4bf3-fa78-85ede9526bd6"
      },
      "execution_count": 17,
      "outputs": [
        {
          "output_type": "stream",
          "name": "stdout",
          "text": [
            "Грузоподъемность грузовика (кг.) = 10\n",
            "Количество предметов = 2\n",
            "Масса 1-го предмета (кг.) = 3\n",
            "Масса 2-го предмета (кг.) = 3\n",
            "Да\n"
          ]
        }
      ]
    },
    {
      "cell_type": "code",
      "source": [
        "# Задание task_02_16.\n",
        "#\n",
        "# Выполнил: Махонина А.В.\n",
        "# Группа: ЦИБ-241\n",
        "\n",
        "n = int(input(\"Количество районов = \"))\n",
        "\n",
        "total = 0\n",
        "for i in range(1, n + 1):\n",
        "    area = float(input(f\"Площадь {i}-го района (га) = \"))\n",
        "    yield_rate = float(input(f\"Урожайность в {i}-м районе (ц/га.) = \"))\n",
        "    total += area * yield_rate\n",
        "\n",
        "print(f\"Собрано пшеницы: {total:.1f} ц.\")\n",
        "\n",
        "# --------------\n",
        "# Пример вывода:\n",
        "#\n",
        "# Количество районов = 3\n",
        "# Площадь 1-го района (га) = 4\n",
        "# Урожайность в 1-м районе (ц/га.) = 2\n",
        "# Площадь 2-го района (га) = 7\n",
        "# Урожайность в 2-м районе (ц/га.) = 3\n",
        "# Площадь 3-го района (га) = 9\n",
        "# Урожайность в 3-м районе (ц/га.) = 4\n",
        "# Собрано пшеницы: 65.0 ц."
      ],
      "metadata": {
        "id": "Xq-EYGwKrEqh",
        "colab": {
          "base_uri": "https://localhost:8080/"
        },
        "outputId": "b13b6a29-b6cd-4a59-a679-08f541b77dbb"
      },
      "execution_count": 18,
      "outputs": [
        {
          "output_type": "stream",
          "name": "stdout",
          "text": [
            "Количество районов = 3\n",
            "Площадь 1-го района (га) = 4\n",
            "Урожайность в 1-м районе (ц/га.) = 2\n",
            "Площадь 2-го района (га) = 7\n",
            "Урожайность в 2-м районе (ц/га.) = 3\n",
            "Площадь 3-го района (га) = 9\n",
            "Урожайность в 3-м районе (ц/га.) = 4\n",
            "Собрано пшеницы: 65.0 ц.\n"
          ]
        }
      ]
    },
    {
      "cell_type": "code",
      "source": [
        "# Задание task_02_17.\n",
        "#\n",
        "# Выполнил: Махонина А.В.\n",
        "# Группа: ЦИБ-241\n",
        "\n",
        "nums_sum = 0\n",
        "nums_count = 0\n",
        "\n",
        "i = 1\n",
        "while True:\n",
        "    num = int(input(f'Введите {i}-е число: '))\n",
        "    if num == 0:\n",
        "        break\n",
        "    nums_sum += num\n",
        "    nums_count += 1\n",
        "    i += 1\n",
        "\n",
        "print(f'Сумма = {nums_sum}')\n",
        "print(f'Количество = {nums_count}')\n",
        "\n",
        "# --------------\n",
        "# Пример вывода:\n",
        "#\n",
        "# Введите 1-е число: 1\n",
        "# Введите 2-е число: 2\n",
        "# Введите 3-е число: 3\n",
        "# Введите 4-е число: 4\n",
        "# Введите 5-е число: 0\n",
        "# Сумма = 10\n",
        "# Количество = 4\n",
        "#\n",
        "# Введите 1-е число: 0\n",
        "# Сумма = 0\n",
        "# Количество = 0\n"
      ],
      "metadata": {
        "id": "j0KSPFIttQ3x",
        "colab": {
          "base_uri": "https://localhost:8080/"
        },
        "outputId": "7013781e-9734-474f-e626-5d20d1c1d2fb"
      },
      "execution_count": 19,
      "outputs": [
        {
          "output_type": "stream",
          "name": "stdout",
          "text": [
            "Введите 1-е число: 1\n",
            "Введите 2-е число: 2\n",
            "Введите 3-е число: 3\n",
            "Введите 4-е число: 4\n",
            "Введите 5-е число: 0\n",
            "Сумма = 10\n",
            "Количество = 4\n"
          ]
        }
      ]
    },
    {
      "cell_type": "code",
      "source": [
        "# Задание task_02_18.\n",
        "#\n",
        "# Выполнил: Махонина А.В.\n",
        "# Группа: ЦИБ-241\n",
        "\n",
        "sentence = input(\"Введите предложение: \")\n",
        "\n",
        "count_gl = 0\n",
        "count_sogl = 0\n",
        "\n",
        "vowels = \"аеёиоуыэюяАЕЁИОУЫЭЮЯ\"\n",
        "\n",
        "for char in sentence:\n",
        "    if char == \" \":\n",
        "        continue\n",
        "    if char in vowels:\n",
        "        count_gl += 1\n",
        "    elif 'а' <= char.lower() <= 'я':\n",
        "        count_sogl += 1\n",
        "\n",
        "print(f\"Кол-во букв в предложении: гласных - {count_gl}, согласных - {count_sogl}\")\n",
        "\n",
        "# --------------\n",
        "# Пример вывода:\n",
        "#\n",
        "# Введите предложение: Программирование\n",
        "# Кол-во букв в предложении: гласных - 7, согласных - 9\n"
      ],
      "metadata": {
        "id": "HOOf_3qOwDp0",
        "colab": {
          "base_uri": "https://localhost:8080/"
        },
        "outputId": "162413c4-5d0a-4806-d7cc-dee9606730ba"
      },
      "execution_count": 20,
      "outputs": [
        {
          "output_type": "stream",
          "name": "stdout",
          "text": [
            "Введите предложение: миымымишнкываавраа\n",
            "Кол-во букв в предложении: гласных - 9, согласных - 9\n"
          ]
        }
      ]
    },
    {
      "cell_type": "code",
      "source": [
        "# Задание task_02_19.\n",
        "#\n",
        "# Выполнил: Махонина А.В.\n",
        "# Группа: ЦИБ-241\n",
        "\n",
        "a = int(input(\"a = \"))\n",
        "b = int(input(\"b = \"))\n",
        "c = int(input(\"c = \"))\n",
        "\n",
        "result = \"\"\n",
        "\n",
        "for i in range(a, b + 1):\n",
        "    if i % c == 0:\n",
        "        result += str(i) + \" \"\n",
        "\n",
        "print(result.strip())\n",
        "\n",
        "# --------------\n",
        "# Пример вывода:\n",
        "#\n",
        "# a = 1\n",
        "# b = 10\n",
        "# c = 2\n",
        "# 2 4 6 8 10\n"
      ],
      "metadata": {
        "colab": {
          "base_uri": "https://localhost:8080/"
        },
        "id": "JPf96j8gxhdK",
        "outputId": "00fc230a-5d4e-4e5a-b791-b925f16ac94e"
      },
      "execution_count": 24,
      "outputs": [
        {
          "output_type": "stream",
          "name": "stdout",
          "text": [
            "a = 2\n",
            "b = 11\n",
            "c = 3\n",
            "3 6 9\n"
          ]
        }
      ]
    },
    {
      "cell_type": "code",
      "source": [
        "# Задание task_02_20.\n",
        "#\n",
        "# Выполнил: Махонина А.В.\n",
        "# Группа: ЦИБ-241\n",
        "\n",
        "n = int(input(\"n = \"))\n",
        "\n",
        "result = \"\"\n",
        "\n",
        "for i in range(100, 1000):\n",
        "    hundreds = i // 100\n",
        "    tens = (i // 10) % 10\n",
        "    units = i % 10\n",
        "\n",
        "    if hundreds + tens + units == n:\n",
        "        result += str(i) + \" \"\n",
        "\n",
        "print(result.strip())\n",
        "\n",
        "# --------------\n",
        "# Пример вывода:\n",
        "#\n",
        "# n = 3\n",
        "# 102 111 120 201 210 300\n"
      ],
      "metadata": {
        "id": "V4pX9OGty443",
        "colab": {
          "base_uri": "https://localhost:8080/"
        },
        "outputId": "75075c23-b658-40a2-bf8f-56ac853c0fc8"
      },
      "execution_count": 25,
      "outputs": [
        {
          "output_type": "stream",
          "name": "stdout",
          "text": [
            "n = 5\n",
            "104 113 122 131 140 203 212 221 230 302 311 320 401 410 500\n"
          ]
        }
      ]
    },
    {
      "cell_type": "code",
      "source": [
        "# Задание task_02_21.\n",
        "#\n",
        "# Выполнил: Махонина А.В.\n",
        "# Группа: ЦИБ-241\n",
        "\n",
        "n = int(input(\"n = \"))\n",
        "\n",
        "sum_m = 0\n",
        "count_m = 0\n",
        "sum_d = 0\n",
        "count_d = 0\n",
        "\n",
        "for i in range(1, n + 1):\n",
        "    rost = int(input(f\"Рост {i}-го ученика = \"))\n",
        "    if rost < 0:\n",
        "        sum_m += abs(rost)\n",
        "        count_m += 1\n",
        "    else:\n",
        "        sum_d += rost\n",
        "        count_d += 1\n",
        "\n",
        "if count_m > 0:\n",
        "    r_sr_m = sum_m / count_m\n",
        "else:\n",
        "    r_sr_m = 0.0\n",
        "\n",
        "if count_d > 0:\n",
        "    r_sr_d = sum_d / count_d\n",
        "else:\n",
        "    r_sr_d = 0.0\n",
        "\n",
        "print(\"Средний рост мальчиков: {:.1f}\".format(r_sr_m))\n",
        "print(\"Средний рост девочек: {:.1f}\".format(r_sr_d))\n",
        "\n",
        "\n",
        "# --------------\n",
        "# Пример вывода:\n",
        "#\n",
        "# n = 5\n",
        "# Рост 1-го ученика = 150\n",
        "# Рост 2-го ученика = -150\n",
        "# Рост 3-го ученика = 160\n",
        "# Рост 4-го ученика = 170\n",
        "# Рост 5-го ученика = 180\n",
        "# Средний рост мальчиков: 150.0\n",
        "# Средний рост девочек: 165.0"
      ],
      "metadata": {
        "id": "a-9Bz6dHz6NJ",
        "colab": {
          "base_uri": "https://localhost:8080/"
        },
        "outputId": "f866f52c-5e04-4eb0-e3c9-753b42796c67"
      },
      "execution_count": 27,
      "outputs": [
        {
          "output_type": "stream",
          "name": "stdout",
          "text": [
            "n = 2\n",
            "Рост 1-го ученика = 130\n",
            "Рост 2-го ученика = 160\n",
            "Средний рост мальчиков: 0.0\n",
            "Средний рост девочек: 145.0\n"
          ]
        }
      ]
    },
    {
      "cell_type": "code",
      "source": [
        "# Программирование на языке высокого уровня (Python).\n",
        "# https://www.yuripetrov.ru/edu/python\n",
        "# Задание task_02_22.\n",
        "#\n",
        "# Выполнил: Махонина А.В.\n",
        "# Группа: ЦИБ-241\n",
        "# E-mail: makhoninaav432@mgpu.ru\n",
        "\n",
        "n = int(input(\"n = \"))\n",
        "\n",
        "a_max = None\n",
        "a_min = None\n",
        "\n",
        "for i in range(1, n + 1):\n",
        "    num = float(input(f\"{i}-е число = \"))\n",
        "\n",
        "    if a_max is None or num > a_max:\n",
        "        a_max = num\n",
        "    if a_min is None or num < a_min:\n",
        "        a_min = num\n",
        "\n",
        "print(\"Максимум: {:.2f}\".format(a_max))\n",
        "print(\"Минимум: {:.2f}\".format(a_min))\n",
        "\n",
        "# --------------\n",
        "# Пример вывода:\n",
        "#\n",
        "# n = 4\n",
        "# 1-е число = 6.2\n",
        "# 2-е число = 3.8\n",
        "# 3-е число = 1.1\n",
        "# 4-е число = 9.66\n",
        "# Максимум: 9.66\n",
        "# Минимум: 1.10\n"
      ],
      "metadata": {
        "id": "DgzEWCNS1FEk",
        "colab": {
          "base_uri": "https://localhost:8080/"
        },
        "outputId": "f421da78-c586-46d8-c104-fd45d170fcbe"
      },
      "execution_count": 28,
      "outputs": [
        {
          "output_type": "stream",
          "name": "stdout",
          "text": [
            "n = 4\n",
            "1-е число = 3.5\n",
            "2-е число = 4.5\n",
            "3-е число = 1.1\n",
            "4-е число = 9.66\n",
            "Максимум: 9.66\n",
            "Минимум: 1.10\n"
          ]
        }
      ]
    },
    {
      "cell_type": "code",
      "source": [
        "# Задание task_02_23.\n",
        "#\n",
        "# Выполнил: Махонина А.В.\n",
        "# Группа: ЦИБ-241\n",
        "\n",
        "n = int(input(\"Введите натуральное число n: \"))\n",
        "\n",
        "a, b = 0, 1\n",
        "while b < n:\n",
        "    a, b = b, a + b\n",
        "\n",
        "print(\"Является\" if b == n else \"Не является\")\n",
        "\n",
        "# --------------\n",
        "# Пример вывода:\n",
        "#\n",
        "# n = 7\n",
        "# Не является\n",
        "#\n",
        "# n = 8\n",
        "# Является"
      ],
      "metadata": {
        "id": "DYZnzEbn4cL8",
        "colab": {
          "base_uri": "https://localhost:8080/"
        },
        "outputId": "4edf3a78-e6e0-433b-91d3-822027e510ac"
      },
      "execution_count": 29,
      "outputs": [
        {
          "output_type": "stream",
          "name": "stdout",
          "text": [
            "Введите натуральное число n: 7\n",
            "Не является\n"
          ]
        }
      ]
    },
    {
      "cell_type": "code",
      "source": [
        "# Задание task_02_24.\n",
        "#\n",
        "# Выполнил: Махонина А.В.\n",
        "# Группа: ЦИБ-241\n",
        "\n",
        "\n",
        "n = int(input(\"n = \"))\n",
        "\n",
        "index = -1\n",
        "\n",
        "prev = float(input(\"1-е число = \"))\n",
        "for i in range(2, n + 1):\n",
        "    current = float(input(f\"{i}-е число = \"))\n",
        "    if current < prev:\n",
        "        index = i\n",
        "        break\n",
        "    prev = current\n",
        "\n",
        "if index == -1:\n",
        "    print(\"Является\")\n",
        "else:\n",
        "    print(index)\n",
        "\n",
        "# --------------\n",
        "# Пример вывода:\n",
        "#\n",
        "# n = 4\n",
        "# 1-е число = 2\n",
        "# 2-е число = 4.6\n",
        "# 3-е число = 6\n",
        "# 4-е число = 8.3\n",
        "# Является\n",
        "#\n",
        "# n = 3\n",
        "# 1-е число = 3\n",
        "# 2-е число = 3\n",
        "# 2\n"
      ],
      "metadata": {
        "id": "qv5an8Ds5Ppe",
        "colab": {
          "base_uri": "https://localhost:8080/"
        },
        "outputId": "1e8efde6-2a29-4b15-974f-90fe1ec5ae37"
      },
      "execution_count": 30,
      "outputs": [
        {
          "output_type": "stream",
          "name": "stdout",
          "text": [
            "n = 3\n",
            "1-е число = 3\n",
            "2-е число = 2\n",
            "2\n"
          ]
        }
      ]
    },
    {
      "cell_type": "code",
      "source": [
        "# Задание task_02_25.\n",
        "#\n",
        "# Выполнил: Махонина А.В.\n",
        "# Группа: ЦИБ-241\n",
        "\n",
        "n = int(input(\"n = \"))\n",
        "for i in range(1, n + 1):\n",
        "    for j in range(1, n + 1):\n",
        "        print(f\"{i} * {j} = {i * j:2d}\", end=\"  \")\n",
        "    print()\n",
        "\n",
        "# --------------\n",
        "# Пример вывода:\n",
        "#\n",
        "# n = 5\n",
        "# 1 * 1 =  1  1 * 2 =  2  1 * 3 =  3  1 * 4 =  4  1 * 5 =  5\n",
        "# 2 * 1 =  2  2 * 2 =  4  2 * 3 =  6  2 * 4 =  8  2 * 5 = 10\n",
        "# 3 * 1 =  3  3 * 2 =  6  3 * 3 =  9  3 * 4 = 12  3 * 5 = 15\n",
        "# 4 * 1 =  4  4 * 2 =  8  4 * 3 = 12  4 * 4 = 16  4 * 5 = 20\n",
        "# 5 * 1 =  5  5 * 2 = 10  5 * 3 = 15  5 * 4 = 20  5 * 5 = 25"
      ],
      "metadata": {
        "colab": {
          "base_uri": "https://localhost:8080/"
        },
        "id": "PNDD7M1F7OQ8",
        "outputId": "8890f274-1e2d-4772-a6cf-ac9e17063e76"
      },
      "execution_count": 33,
      "outputs": [
        {
          "output_type": "stream",
          "name": "stdout",
          "text": [
            "n = 2\n",
            "1 * 1 =  1  1 * 2 =  2  \n",
            "2 * 1 =  2  2 * 2 =  4  \n"
          ]
        }
      ]
    },
    {
      "cell_type": "code",
      "source": [
        "# Задание task_02_26.\n",
        "#\n",
        "# Выполнил: Махонина А.В.\n",
        "# Группа: ЦИБ-241\n",
        "\n",
        "n = int(input(\"n = \"))\n",
        "for i in range(1, n + 1):\n",
        "    count = 0\n",
        "    for j in range(1, i + 1):\n",
        "        if i % j == 0:\n",
        "            count += 1\n",
        "    print(f\"{i} {'*' * count}\")\n",
        "\n",
        "# --------------\n",
        "# Пример вывода:\n",
        "#\n",
        "# n = 10\n",
        "# 1 *\n",
        "# 2 **\n",
        "# 3 **\n",
        "# 4 ***\n",
        "# 5 **\n",
        "# 6 ****\n",
        "# 7 **\n",
        "# 8 ****\n",
        "# 9 ***\n",
        "# 10 ****\n",
        "\n"
      ],
      "metadata": {
        "colab": {
          "base_uri": "https://localhost:8080/"
        },
        "id": "af7al-XtAKSs",
        "outputId": "39f25159-f29f-41d6-e47b-257a6c5dcc8c"
      },
      "execution_count": 34,
      "outputs": [
        {
          "output_type": "stream",
          "name": "stdout",
          "text": [
            "n = 4\n",
            "1 *\n",
            "2 **\n",
            "3 **\n",
            "4 ***\n"
          ]
        }
      ]
    },
    {
      "cell_type": "code",
      "source": [
        "# Задание task_02_27.\n",
        "#\n",
        "# Выполнил: Махонина А.В.\n",
        "# Группа: ЦИБ-241\n",
        "\n",
        "n = int(input(\"n = \"))\n",
        "\n",
        "count = 0\n",
        "num = 2\n",
        "\n",
        "while count < n:\n",
        "    is_prime = True\n",
        "    for i in range(2, num):\n",
        "        if num % i == 0:\n",
        "            is_prime = False\n",
        "            break\n",
        "    if is_prime:\n",
        "        print(num, end=\" \")\n",
        "        count += 1\n",
        "    num += 1\n",
        "\n",
        "# --------------\n",
        "# Пример вывода:\n",
        "#\n",
        "# n = 10\n",
        "# 2 3 5 7 11 13 17 19 23 29\n"
      ],
      "metadata": {
        "colab": {
          "base_uri": "https://localhost:8080/"
        },
        "id": "uMwo1MYNDNzr",
        "outputId": "b0c8370f-bcff-4c19-a09e-06d19c1d0d38"
      },
      "execution_count": 35,
      "outputs": [
        {
          "output_type": "stream",
          "name": "stdout",
          "text": [
            "n = 10\n",
            "2 3 5 7 11 13 17 19 23 29 "
          ]
        }
      ]
    },
    {
      "cell_type": "code",
      "source": [
        "# Задание task_02_28.\n",
        "#\n",
        "# Выполнил: Махонина А.В.\n",
        "# Группа: ЦИБ-241\n",
        "\n",
        "k = int(input(\"k = \"))\n",
        "for x in range(1, 31):\n",
        "    for y in range(1, 31):\n",
        "        for z in range(1, 31):\n",
        "            if x ** 2 + y ** 2 + z ** 2 == k ** 2:\n",
        "                print(f\"x = {x:2d}, y = {y:2d}, z = {z:2d}\")\n",
        "\n",
        "# --------------\n",
        "# Пример вывода:\n",
        "#\n",
        "# k = 30\n",
        "# x =  4, y = 10, z = 28\n",
        "# x =  4, y = 20, z = 22\n",
        "# x =  4, y = 22, z = 20\n",
        "# x =  4, y = 28, z = 10\n",
        "# x = 10, y =  4, z = 28\n",
        "# x = 10, y = 20, z = 20\n",
        "# x = 10, y = 28, z =  4\n",
        "# x = 20, y =  4, z = 22\n",
        "# x = 20, y = 10, z = 20\n",
        "# x = 20, y = 20, z = 10\n",
        "# x = 20, y = 22, z =  4\n",
        "# x = 22, y =  4, z = 20\n",
        "# x = 22, y = 20, z =  4\n",
        "# x = 28, y =  4, z = 10\n",
        "# x = 28, y = 10, z =  4"
      ],
      "metadata": {
        "colab": {
          "base_uri": "https://localhost:8080/"
        },
        "id": "A3qp2KCXFNMc",
        "outputId": "d8d1442c-f3c1-4b95-cf5c-5cb198abf8c5"
      },
      "execution_count": 36,
      "outputs": [
        {
          "output_type": "stream",
          "name": "stdout",
          "text": [
            "k = 34\n",
            "x =  2, y = 24, z = 24\n",
            "x = 16, y = 18, z = 24\n",
            "x = 16, y = 24, z = 18\n",
            "x = 18, y = 16, z = 24\n",
            "x = 18, y = 24, z = 16\n",
            "x = 24, y =  2, z = 24\n",
            "x = 24, y = 16, z = 18\n",
            "x = 24, y = 18, z = 16\n",
            "x = 24, y = 24, z =  2\n"
          ]
        }
      ]
    },
    {
      "cell_type": "code",
      "source": [
        "# Задание task_02_29.\n",
        "#\n",
        "# Выполнил: Махонина А.В.\n",
        "# Группа: ЦИБ-241\n",
        "\n",
        "n = int(input(\"n = \"))\n",
        "\n",
        "nums = [float(input(f\"Введите {i + 1}-й элемент списка: \")) for i in range(n)]\n",
        "\n",
        "nums_pos = [num for num in nums if num > 0]\n",
        "nums_neg = []\n",
        "for num in nums:\n",
        "    if num < 0:\n",
        "        nums_neg.append(num)\n",
        "\n",
        "sr_ar = sum(nums_pos) / len(nums_pos) if nums_pos else 0\n",
        "product = 1\n",
        "for num in nums_neg:\n",
        "    product *= abs(num)\n",
        "sr_geom = product ** (1 / len(nums_neg)) if nums_neg else 0\n",
        "\n",
        "print(f\"n = {n}\")\n",
        "print(\"Исходный список:\", nums)\n",
        "print(\"Положительные числа:\", nums_pos)\n",
        "print(\"Отрицательные числа:\", nums_neg)\n",
        "print(f\" Ср. арифм.: {sr_ar:.2f}\")\n",
        "print(f\" Ср. геом.: {sr_geom:.2f}\")\n",
        "\n",
        "# --------------\n",
        "# Пример вывода:\n",
        "#\n",
        "# n = 4\n",
        "# Введите 1-й элемент списка: 1\n",
        "# Введите 2-й элемент списка: 6\n",
        "# Введите 3-й элемент списка: -10\n",
        "# Введите 4-й элемент списка: -3\n",
        "# Исходный список: [1.0, 6.0, -10.0, -3.0]\n",
        "# Положительные числа: [1.0, 6.0]\n",
        "# Отрицательные числа: [-10.0, -3.0]\n",
        "# Ср. арифм.: 3.50\n",
        "# Ср. геом.: 5.48"
      ],
      "metadata": {
        "id": "AgD7CRqzGVSq",
        "colab": {
          "base_uri": "https://localhost:8080/"
        },
        "outputId": "cf9c0abf-c7cc-42fe-8beb-e5c62b5a6d6b"
      },
      "execution_count": 37,
      "outputs": [
        {
          "output_type": "stream",
          "name": "stdout",
          "text": [
            "n = 1\n",
            "Введите 1-й элемент списка: 2\n",
            "n = 1\n",
            "Исходный список: [2.0]\n",
            "Положительные числа: [2.0]\n",
            "Отрицательные числа: []\n",
            " Ср. арифм.: 2.00\n",
            " Ср. геом.: 0.00\n"
          ]
        }
      ]
    },
    {
      "cell_type": "code",
      "source": [
        "# Задание task_02_30.\n",
        "#\n",
        "# Выполнил: Махонина А.В.\n",
        "# Группа: ЦИБ-241\n",
        "\n",
        "# Все разделенные пробелом элементы будут преобразованы в список целых чисел\n",
        "nums = [int(item) for item in input().split()]\n",
        "\n",
        "# 1. Все положительные\n",
        "all_pos_1 = True\n",
        "for item in nums:\n",
        "    if item <= 0:\n",
        "        all_pos_1 = False\n",
        "        break\n",
        "\n",
        "all_pos_2 = all([item > 0 for item in nums])\n",
        "\n",
        "# 2. Хотя бы 1 нулевой элемент\n",
        "any_zero_1 = False\n",
        "for item in nums:\n",
        "    if item == 0:\n",
        "        any_zero_1 = True\n",
        "        break\n",
        "\n",
        "any_zero_2 = any([item == 0 for item in nums])\n",
        "\n",
        "# 3. Все четные\n",
        "all_even_1 = True\n",
        "for item in nums:\n",
        "    if item % 2 != 0:\n",
        "        all_even_1 = False\n",
        "        break\n",
        "\n",
        "all_even_2 = all([item % 2 == 0 for item in nums])\n",
        "\n",
        "# 4. Хотя бы 1 нечетный элемент\n",
        "any_odd_1 = False\n",
        "for item in nums:\n",
        "    if item % 2 != 0:\n",
        "        any_odd_1 = True\n",
        "        break\n",
        "\n",
        "any_odd_2 = any([item % 2 != 0 for item in nums])\n",
        "\n",
        "print(\"Все положительные:\", all_pos_1, all_pos_2)\n",
        "print(\"Хотя бы 1 нулевой элемент:\", any_zero_1, any_zero_2)\n",
        "print(\"Все четные:\", all_even_1, all_even_2)\n",
        "print(\"Хотя бы 1 нечетный элемент:\", any_odd_1, any_odd_2)\n",
        "\n",
        "# --------------\n",
        "# Пример вывода:\n",
        "#\n",
        "# -1 1 100 0\n",
        "# Все положительные: False False\n",
        "# Хотя бы 1 нулевой элемент: True True\n",
        "# Все четные: False False\n",
        "# Хотя бы 1 нечетный элемент: True True"
      ],
      "metadata": {
        "id": "CArzHRMzHFX9",
        "colab": {
          "base_uri": "https://localhost:8080/"
        },
        "outputId": "d9b25ec9-05ac-43ad-e404-bc18d22f62bc"
      },
      "execution_count": 38,
      "outputs": [
        {
          "output_type": "stream",
          "name": "stdout",
          "text": [
            "-1 120 0\n",
            "Все положительные: False False\n",
            "Хотя бы 1 нулевой элемент: True True\n",
            "Все четные: False False\n",
            "Хотя бы 1 нечетный элемент: True True\n"
          ]
        }
      ]
    },
    {
      "cell_type": "code",
      "source": [
        "# Задание task_02_31.\n",
        "#\n",
        "# Выполнил: Махонина А.В.\n",
        "# Группа: ЦИБ-241\n",
        "\n",
        "s = input(\"Введите предложение = \")\n",
        "k = input(\"Введите букву = \").lower()\n",
        "\n",
        "result = ' '.join(word for word in s.split() if k not in word.lower())\n",
        "\n",
        "print(result)\n",
        "\n",
        "# --------------\n",
        "# Пример вывода:\n",
        "#\n",
        "# Введите предложение = МАМА мыла РаМу\n",
        "# Введите букву = р\n",
        "# МАМА мыла\n"
      ],
      "metadata": {
        "id": "0493h5niIDkn",
        "colab": {
          "base_uri": "https://localhost:8080/"
        },
        "outputId": "8a4797d2-b5c8-4d84-ad59-ff9830b022a0"
      },
      "execution_count": 39,
      "outputs": [
        {
          "output_type": "stream",
          "name": "stdout",
          "text": [
            "Введите предложение = МАМА мыла РаМу\n",
            "Введите букву = Р\n",
            "МАМА мыла\n"
          ]
        }
      ]
    },
    {
      "cell_type": "code",
      "source": [
        "# Задание task_02_32.\n",
        "#\n",
        "# Выполнил: Махонина А.В.\n",
        "# Группа: ЦИБ-241\n",
        "\n",
        "n = n = int(input(\"Количество рядов = \"))\n",
        "\n",
        "# 1. Заполнение мест\n",
        "seats = []\n",
        "for i in range(n):\n",
        "   row = list(map(int, input().split()))\n",
        "   seats.append(row)\n",
        "\n",
        "# 2. Всего свободных мест\n",
        "count = 0\n",
        "for row in seats:\n",
        "    count += row.count(0)\n",
        "print(f\"Всего свободных мест: {count}\")\n",
        "\n",
        "# 3. Ввод значений для поиска\n",
        "#    Учитывайте, что пользователь привык считать с 1, а не с 0,\n",
        "#    поэтому введенные сообщения необходимо скорректировать\n",
        "n_p, m_p = [int(item) for item in input(\"Введите ряд и место через пробел: \").split()]\n",
        "if n_p < 1 or n_p > len(seats) or m_p < 1 or m_p > len(seats[n_p-1]):\n",
        "    print(\"Такого места не существует\")\n",
        "else:\n",
        "\n",
        "# n_p, m, p не должны выходить за границы\n",
        "# Если выходит, необходимо указать, что \"Такого места не существует\"\n",
        "    is_free = seats[n_p-1][m_p-1] == 0\n",
        "    print(f\"Место свободно: {is_free}\")\n",
        "\n",
        "# --------------\n",
        "# Пример вывода:\n",
        "#\n",
        "# Количество рядов = 3\n",
        "# 0 0 0\n",
        "# 1 1 1\n",
        "# 0 0 0 0 1\n",
        "# Всего свободных мест: 7\n",
        "# Введите ряд и место через пробел: 1 1\n",
        "# Место свободно: True"
      ],
      "metadata": {
        "colab": {
          "base_uri": "https://localhost:8080/"
        },
        "id": "stjST9bCLUCo",
        "outputId": "3edd4f45-deeb-4d39-a3fd-2e793a5659d5"
      },
      "execution_count": 40,
      "outputs": [
        {
          "output_type": "stream",
          "name": "stdout",
          "text": [
            "Количество рядов = 3\n",
            "0 0 0\n",
            "1 1 1\n",
            "0 0 0 0 1\n",
            "Всего свободных мест: 7\n",
            "Введите ряд и место через пробел: 1 1 \n",
            "Место свободно: True\n"
          ]
        }
      ]
    },
    {
      "cell_type": "code",
      "source": [
        "# Задание task_02_33.\n",
        "# Выполнил: Махонина А.В.\n",
        "# Группа: ЦИБ-241\n",
        "\n",
        "# 1. Заполнение списка\n",
        "\n",
        "# Используйте данный список для собственных тестов,\n",
        "# чтобы избежать постоянного ввода значений\n",
        "# Перед автоматической проверкой удалите/закомментируйте его\n",
        "# и используйте ввод с клавиатуры\n",
        "employees = [\n",
        "    [\"Петрова\", \"Анна\", \"Алексеевна\", \"Ж\", 5],\n",
        "    [\"Семенов\", \"Николай\", \"Михайлович\", \"М\", 2],\n",
        "    [\"Михайлов\", \"Игорь\", \"Васильевич\", \"М\", 3]\n",
        "]\n",
        "\n",
        "n = int(input('Количество сотрудников = '))\n",
        "\n",
        "employees = []\n",
        "for _ in range(n):\n",
        "    data = input().split()\n",
        "    data[-1] = int(data[-1])\n",
        "    employees.append(data)\n",
        "\n",
        "# 2. Cамый «молодой» и самый «старый» сотрудник\n",
        "sorted_by_experience = sorted(employees, key=lambda x: x[-1])\n",
        "employee_min = sorted_by_experience[0]\n",
        "employee_max = sorted_by_experience[-1]\n",
        "print(\"Cамый \\\"молодой\\\": {}\".format(\" \".join(employee_min[:3])))\n",
        "print(\"Cамый \\\"старый\\\": {}\".format(\" \".join(employee_max[:3])))\n",
        "\n",
        "# 3. Отдельные списки мужчин и женщин\n",
        "#    В данном случае удобно использовать списковые включения\n",
        "men = [emp for emp in employees if emp[3] == \"М\"]\n",
        "women = [emp for emp in employees if emp[3] == \"Ж\"]\n",
        "\n",
        "k = input(\"Введите букву начала имени = \").strip().lower()\n",
        "\n",
        "men_k_count = 0\n",
        "men_k_count = sum(1 for emp in men if emp[1].lower().startswith(k))\n",
        "\n",
        "women_k_count = 0\n",
        "women_k_count = sum(1 for emp in women if emp[1].lower().startswith(k))\n",
        "\n",
        "if men_k_count > women_k_count:\n",
        "    print(\"У мужчин таких имен больше\")\n",
        "elif women_k_count > men_k_count:\n",
        "    print(\"У женщин таких имен больше\")\n",
        "else:\n",
        "    print(\"Таких имен поровну у мужчин и женщин\")\n",
        "\n",
        "\n",
        "# --------------\n",
        "# Пример вывода:\n",
        "#\n",
        "# Количество сотрудников = 3\n",
        "# Петрова Анна Алексеевна Ж 5\n",
        "# Семенов Николай Михайлович М 2\n",
        "# Михайлов Игорь Васильевич М 3\n",
        "# Cамый \"молодой\": Семенов Николай Михайлович\n",
        "# Cамый \"старый\": Петрова Анна Алексеевна\n",
        "# Введите букву начала имени = а\n",
        "# У женщин таких имен больше\n",
        "#\n",
        "# Количество сотрудников = 3\n",
        "# Петрова Анна Алексеевна Ж 5\n",
        "# Семенов Николай Михайлович М 2\n",
        "# Михайлов Игорь Васильевич М 3\n",
        "# Cамый \"молодой\": Семенов Николай Михайлович\n",
        "# Cамый \"старый\": Петрова Анна Алексеевна\n",
        "# Введите букву начала имени = и\n",
        "# У мужчин таких имен больше\n",
        "#\n",
        "# Количество сотрудников = 3\n",
        "# Петрова Анна Алексеевна Ж 5\n",
        "# Семенов Николай Михайлович М 2\n",
        "# Михайлов Алексей Васильевич М 3\n",
        "# Cамый \"молодой\": Семенов Николай Михайлович\n",
        "# Cамый \"старый\": Петрова Анна Алексеевна\n",
        "# Введите букву начала имени = а\n",
        "# Таких имен поровну у мужчин и женщин"
      ],
      "metadata": {
        "id": "3adJnp_VNKO2"
      },
      "execution_count": null,
      "outputs": []
    },
    {
      "cell_type": "code",
      "source": [
        "# Задание task_02_34.\n",
        "# Выполнил: Махонина А.В.\n",
        "# Группа: ЦИБ-241\n",
        "\n",
        "\n",
        "\n",
        "# 1. Заполнение списка\n",
        "\n",
        "# Используйте данный список для собственных тестов,\n",
        "# чтобы избежать постоянного ввода значений\n",
        "# Перед автоматической проверкой удалите его\n",
        "# и используйте ввод с клавиатуры\n",
        "# deposits = [\n",
        "#    {\"name\": \"Банк_1\", \"initial_sum\": 50000, \"rate\": 5.2},\n",
        "#    {\"name\": \"Банк_2\", \"initial_sum\": 20000, \"rate\": 3.7},\n",
        "#    {\"name\": \"Банк_3\", \"initial_sum\": 45000, \"rate\": 6.8},\n",
        "# ]\n",
        "\n",
        "n = int(input(\"Количество банков = \"))\n",
        "\n",
        "deposits = []\n",
        "for _ in range(n):\n",
        "    bank_info = input().split()\n",
        "    bank_name = bank_info[0]\n",
        "    initial_sum = int(bank_info[1])\n",
        "    rate = float(bank_info[2])\n",
        "    deposits.append({\"name\": bank_name, \"initial_sum\": initial_sum, \"rate\": rate})\n",
        "\n",
        "# 2. Самый доступный банк (с наименьшей первоначальной суммой)\n",
        "min_bank = min(deposits, key=lambda x: x[\"initial_sum\"])\n",
        "print(f\"Самый доступный банк: {min_bank['name']}, первоначальная сумма: {min_bank['initial_sum']:.2f} руб.\")\n",
        "\n",
        "# 3. Самый выгодный банк\n",
        "#    прибыль = сумма * процент / 100\n",
        "most_profitable_bank = max(deposits, key=lambda x: x[\"initial_sum\"] * x[\"rate\"] / 100)\n",
        "profit = most_profitable_bank[\"initial_sum\"] * most_profitable_bank[\"rate\"] / 100\n",
        "print(f\"Самый выгодный банк: {most_profitable_bank['name']}, прибыль: {profit:.2f} руб.\")\n",
        "\n",
        "# --------------\n",
        "# Пример вывода:\n",
        "#\n",
        "# Количество банков = 3\n",
        "# Банк_1 50000 5.2\n",
        "# Банк_2 20000 3.7\n",
        "# Банк_3 45000 6.8\n",
        "# Самый доступный банк: Банк_2, первоначальная сумма: 20000.00 руб.\n",
        "# Самый выгодный банк: Банк_3, прибыль: 3060.00 руб."
      ],
      "metadata": {
        "id": "slfWG67KCDpK"
      },
      "execution_count": null,
      "outputs": []
    }
  ]
}