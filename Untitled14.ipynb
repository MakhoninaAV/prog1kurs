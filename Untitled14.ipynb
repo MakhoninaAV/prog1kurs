{
  "nbformat": 4,
  "nbformat_minor": 0,
  "metadata": {
    "colab": {
      "provenance": [],
      "authorship_tag": "ABX9TyMSSUGLuWXJNLuvewcV06s1",
      "include_colab_link": true
    },
    "kernelspec": {
      "name": "python3",
      "display_name": "Python 3"
    },
    "language_info": {
      "name": "python"
    }
  },
  "cells": [
    {
      "cell_type": "markdown",
      "metadata": {
        "id": "view-in-github",
        "colab_type": "text"
      },
      "source": [
        "<a href=\"https://colab.research.google.com/github/MakhoninaAV/prog1kurs/blob/main/Untitled14.ipynb\" target=\"_parent\"><img src=\"https://colab.research.google.com/assets/colab-badge.svg\" alt=\"Open In Colab\"/></a>"
      ]
    },
    {
      "cell_type": "code",
      "execution_count": null,
      "metadata": {
        "id": "v_n29dQPw2cK"
      },
      "outputs": [],
      "source": [
        "#task_03_02_01\n",
        "{\n",
        "   \"nbformat\": 4,\n",
        "   \"nbformat_minor\": 0,\n",
        "   \"metadata\": {\n",
        "     \"colab\": {\n",
        "       \"provenance\": [],\n",
        "       \"authorship_tag\": \"ABX9TyOd0Ow9ED9hYemBBCvT8pgx\",\n",
        "       \"include_colab_link\": true\n",
        "     },\n",
        "     \"kernelspec\": {\n",
        "       \"name\": \"python3\",\n",
        "       \"display_name\": \"Python 3\"\n",
        "     },\n",
        "     \"language_info\": {\n",
        "       \"name\": \"python\"\n",
        "     }\n",
        "   },\n",
        "   \"cells\": [\n",
        "     {\n",
        "       \"cell_type\": \"markdown\",\n",
        "       \"metadata\": {\n",
        "         \"id\": \"view-in-github\",\n",
        "         \"colab_type\": \"text\"\n",
        "       },\n",
        "       \"source\": [\n",
        "         \"<a href=\\\"https://colab.research.google.com/github/ShokirovER/program1/blob/main/task_03_02_01.ipynb\\\" target=\\\"_parent\\\"><img src=\\\"https://colab.research.google.com/assets/colab-badge.svg\\\" alt=\\\"Open In Colab\\\"/></a>\"\n",
        "       ]\n",
        "     },\n",
        "     {\n",
        "       \"cell_type\": \"code\",\n",
        "       \"execution_count\": 2,\n",
        "       \"metadata\": {\n",
        "         \"colab\": {\n",
        "           \"base_uri\": \"https://localhost:8080/\"\n",
        "         },\n",
        "         \"id\": \"e6g-03GPrWo1\",\n",
        "         \"outputId\": \"38c637ef-dacc-4c50-bfb7-c4153de21322\"\n",
        "       },\n",
        "       \"outputs\": [\n",
        "         {\n",
        "           \"output_type\": \"execute_result\",\n",
        "           \"data\": {\n",
        "             \"text/plain\": [\n",
        "               \"[-2, -2, -2, 1, 1, 2, 2, 2, 2, 2, 3, 3, 3, 4, 4, 5, 65]\"\n",
        "             ]\n",
        "           },\n",
        "           \"metadata\": {},\n",
        "           \"execution_count\": 2\n",
        "         }\n",
        "       ],\n",
        "       \"source\": [\n",
        "         \"# Задание task_03_02_01.\\n\",\n",
        "         \"#\\n\",\n",
        "         \"# Выполнил: Шокиров Е.Р.\\n\",\n",
        "         \"# Группа: ЦИБ - 241\\n\",\n",
        "         \"\\n\",\n",
        "         \"\\n\",\n",
        "         \"\\n\",\n",
        "         \"def foo(a):\\n\",\n",
        "         \"    \\\"\\\"\\\"Алгоритм: сортировка\\n\",\n",
        "         \"    Сложность: O(N^2).\\n\",\n",
        "         \"    \\\"\\\"\\\"\\n\",\n",
        "         \"    for i in range(len(a), 0, -1):\\n\",\n",
        "         \"        for j in range(1, i):\\n\",\n",
        "         \"            if a[j-1] > a[j]:\\n\",\n",
        "         \"                a[j-1], a[j] = a[j], a[j-1]\\n\",\n",
        "         \"    return a\\n\",\n",
        "         \"\\n\",\n",
        "         \"\\n\",\n",
        "         \"a = [1, 2, 3, 4, 2, 1, 3, 4, 3, 5, -2, -2, 2, -2, 65, 2, 2]\\n\",\n",
        "         \"foo(a)\"\n",
        "       ]\n",
        "     }\n",
        "   ]\n",
        " }"
      ]
    },
    {
      "cell_type": "code",
      "source": [
        "# Задание task_03_02_02.\n",
        "#\n",
        "# Выполнил: Махонина А.В.\n",
        "# Группа: ЦИБ - 241\n",
        "\n",
        "\n",
        "\n",
        "def foo(i):\n",
        "    \"\"\"Алгоритм: Преобразование целого числа в строку (деление на 10 с остатком).\n",
        "\n",
        "    Параметры:\n",
        "        - i (int): число.\n",
        "\n",
        "    Сложность: O(log(N)), где N — входное число.\n",
        "    \"\"\"\n",
        "    digits = \"0123456789\"\n",
        "    if i == 0:\n",
        "        return \"0\"\n",
        "    result = \"\"\n",
        "    while i > 0:\n",
        "        result = digits[i%10] + result\n",
        "        i = i // 10\n",
        "    return result"
      ],
      "metadata": {
        "id": "CUT13dRgxZOt"
      },
      "execution_count": null,
      "outputs": []
    }
  ]
}