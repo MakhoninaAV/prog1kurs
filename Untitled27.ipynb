{
  "nbformat": 4,
  "nbformat_minor": 0,
  "metadata": {
    "colab": {
      "provenance": [],
      "authorship_tag": "ABX9TyOdZ4qpvg1FdqSpxBkIGJpd",
      "include_colab_link": true
    },
    "kernelspec": {
      "name": "python3",
      "display_name": "Python 3"
    },
    "language_info": {
      "name": "python"
    }
  },
  "cells": [
    {
      "cell_type": "markdown",
      "metadata": {
        "id": "view-in-github",
        "colab_type": "text"
      },
      "source": [
        "<a href=\"https://colab.research.google.com/github/MakhoninaAV/prog1kurs/blob/main/Untitled27.ipynb\" target=\"_parent\"><img src=\"https://colab.research.google.com/assets/colab-badge.svg\" alt=\"Open In Colab\"/></a>"
      ]
    },
    {
      "cell_type": "code",
      "execution_count": null,
      "metadata": {
        "colab": {
          "base_uri": "https://localhost:8080/",
          "height": 106
        },
        "id": "lGR0-hBPT94J",
        "outputId": "54d2117c-e443-499e-df0c-87bdd2ae4de2"
      },
      "outputs": [
        {
          "output_type": "error",
          "ename": "SyntaxError",
          "evalue": "unterminated triple-quoted string literal (detected at line 8) (<ipython-input-5-c92a8ad0b61a>, line 8)",
          "traceback": [
            "\u001b[0;36m  File \u001b[0;32m\"<ipython-input-5-c92a8ad0b61a>\"\u001b[0;36m, line \u001b[0;32m8\u001b[0m\n\u001b[0;31m    до 500.'''\u001b[0m\n\u001b[0m           ^\u001b[0m\n\u001b[0;31mSyntaxError\u001b[0m\u001b[0;31m:\u001b[0m unterminated triple-quoted string literal (detected at line 8)\n"
          ]
        }
      ],
      "source": [
        "Вариант 13.\n",
        "1. Реализовать последовательный поиск для массива чисел с плавающей точкой в\n",
        "диапазоне от 0.1 до 100.0. Найти число 99.5.\n",
        "2. Реализовать сортировку с помощью прямого включения для массива чисел с\n",
        "плавающей точкой в диапазоне от 0.1 до 100.0.\n",
        "3. Реализовать пузырьковую сортировку для массива чисел с плавающей точкой в\n",
        "диапазоне от 0.1 до 100.0.\n"
      ]
    },
    {
      "cell_type": "code",
      "source": [
        "# Задание 1\n",
        "import random\n",
        "# Генерация массива случайных чисел с плавающей точкой от 0.1 до 100.0\n",
        "arr = [round(random.uniform(0.1, 100.0), 2) for _ in range(100)]\n",
        "def sequential_search(arr, target):\n",
        "    \"\"\"\n",
        "    Последовательный поиск.\n",
        "    Описание алгоритма: найти элемент, перебирая массив слева направо.\n",
        "    Время работы: O(n).\n",
        "    \"\"\"\n",
        "    for i in range(len(arr)):\n",
        "        if arr[i] == target:\n",
        "            return i  # возвращаем индекс найденного элемента\n",
        "    return -1  # если элемент не найден\n",
        "# Число для поиска\n",
        "target = 99.5\n",
        "# Поиск элемента\n",
        "index = sequential_search(arr, target)\n",
        "if index != -1:\n",
        "    print(f\"Элемент {target} найден на индексе {index}.\")\n",
        "else:\n",
        "    print(f\"Элемент {target} не найден.\")\n",
        "# Вывод массива для проверки\n",
        "print(\"Сгенерированный массив:\", arr)"
      ],
      "metadata": {
        "id": "xVoMmvHokjwG"
      },
      "execution_count": null,
      "outputs": []
    },
    {
      "cell_type": "code",
      "source": [
        "# Задание 2\n",
        "def insertion_sort(arr):\n",
        "    # Проходим по всем элементам массива, начиная со второго (индекс 1)\n",
        "    for i in range(1, len(arr)):\n",
        "        key = arr[i]  # Сохраняем текущий элемент (ключ), который нужно вставить\n",
        "        j = i - 1  # Устанавливаем индекс j на элемент перед ключом\n",
        "\n",
        "        # Перемещаем элементы arr[0..i-1], которые больше ключа, на одну позицию вперед\n",
        "        while j >= 0 and arr[j] > key:\n",
        "            arr[j + 1] = arr[j]  # Сдвигаем элемент arr[j] вправо\n",
        "            j -= 1  # Переходим к следующему элементу слева\n",
        "\n",
        "        # Вставляем ключ на его правильное место\n",
        "        arr[j + 1] = key\n",
        "\n",
        "    return arr  # Возвращаем отсортированный массив\n",
        "\n",
        "# Пример использования\n",
        "if __name__ == \"__main__\":\n",
        "    numbers = [23.5, 0.1, 45.6, 12.3, 99.9, 5.5, 100.0, 50.2]  # Исходный массив\n",
        "    sorted_numbers = insertion_sort(numbers)  # Сортируем массив\n",
        "    print(\"Отсортированный массив:\", sorted_numbers)  # Выводим отсортированный массив"
      ],
      "metadata": {
        "id": "01FX0xaHlPO0",
        "colab": {
          "base_uri": "https://localhost:8080/"
        },
        "outputId": "2c325e0f-ba71-40d4-b697-7f6ca265d291"
      },
      "execution_count": 7,
      "outputs": [
        {
          "output_type": "stream",
          "name": "stdout",
          "text": [
            "Отсортированный массив: [0.1, 5.5, 12.3, 23.5, 45.6, 50.2, 99.9, 100.0]\n"
          ]
        }
      ]
    },
    {
      "cell_type": "markdown",
      "source": [
        "\n",
        "Лучший случай: O(n) - происходит, когда массив уже отсортирован. В этом случае внутренний цикл while не выполняется, и мы просто проходим по массиву.\n",
        "\n",
        "Средний и худший случай: O(n²) - происходит, когда массив отсортирован в обратном порядке. В этом случае для каждого элемента нам нужно будет перемещать все предыдущие элементы, что приводит к квадратичной сложности."
      ],
      "metadata": {
        "id": "vYbfu1s_-JTZ"
      }
    },
    {
      "cell_type": "code",
      "source": [
        "# Задание 3\n",
        "def bubble_sort(arr):\n",
        "    n = len(arr)  # Получаем длину массива\n",
        "    # Проходим по всем элементам массива\n",
        "    for i in range(n):\n",
        "        swapped = False  # Флаг для отслеживания, были ли обмены в текущем проходе\n",
        "        # Проходим по массиву от 0 до n-i-1\n",
        "        for j in range(0, n - i - 1):\n",
        "            # Сравниваем соседние элементы\n",
        "            if arr[j] > arr[j + 1]:\n",
        "                # Если элементы идут в неправильном порядке, меняем их местами\n",
        "                arr[j], arr[j + 1] = arr[j + 1], arr[j]\n",
        "                swapped = True  # Устанавливаем флаг, что произошел обмен\n",
        "        # Если не было обменов, массив уже отсортирован, выходим из цикла\n",
        "        if not swapped:\n",
        "            break\n",
        "    return arr  # Возвращаем отсортированный массив\n",
        "# Пример использования\n",
        "if __name__ == \"__main__\":\n",
        "    numbers = [23.5, 0.1, 45.6, 12.3, 99.9, 5.5, 100.0, 50.2]  # Исходный массив\n",
        "    sorted_numbers = bubble_sort(numbers)  # Сортируем массив\n",
        "    print(\"Отсортированный массив:\", sorted_numbers)  # Выводим отсортированный массив"
      ],
      "metadata": {
        "colab": {
          "base_uri": "https://localhost:8080/"
        },
        "id": "shNpEsPfUS7Y",
        "outputId": "9f420bd8-d790-4053-927d-b2496ce3081b"
      },
      "execution_count": 8,
      "outputs": [
        {
          "output_type": "stream",
          "name": "stdout",
          "text": [
            "Отсортированный массив: [0.1, 5.5, 12.3, 23.5, 45.6, 50.2, 99.9, 100.0]\n"
          ]
        }
      ]
    },
    {
      "cell_type": "markdown",
      "source": [
        "\n",
        "Лучший случай: O(n) - происходит, когда массив уже отсортирован. В этом случае внутренний цикл выполняется один раз, и флаг swapped не устанавливается, что приводит к выходу из внешнего цикла.\n",
        "\n",
        "Средний и худший случай: O(n²) - происходит, когда массив отсортирован в обратном порядке. В этом случае для каждого элемента нам нужно будет сравнивать и обменивать его с каждым из оставшихся элементов, что приводит к квадратичной сложности."
      ],
      "metadata": {
        "id": "FXvayISU-faE"
      }
    }
  ]
}