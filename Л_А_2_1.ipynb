{
  "nbformat": 4,
  "nbformat_minor": 0,
  "metadata": {
    "colab": {
      "provenance": [],
      "authorship_tag": "ABX9TyM41ZJ238O/lJfKFL2Sib6+",
      "include_colab_link": true
    },
    "kernelspec": {
      "name": "python3",
      "display_name": "Python 3"
    },
    "language_info": {
      "name": "python"
    }
  },
  "cells": [
    {
      "cell_type": "markdown",
      "metadata": {
        "id": "view-in-github",
        "colab_type": "text"
      },
      "source": [
        "<a href=\"https://colab.research.google.com/github/MakhoninaAV/prog1kurs/blob/main/%D0%9B_%D0%90_2_1.ipynb\" target=\"_parent\"><img src=\"https://colab.research.google.com/assets/colab-badge.svg\" alt=\"Open In Colab\"/></a>"
      ]
    },
    {
      "cell_type": "code",
      "source": [
        "# Выполнил: Махонина А.В.\n",
        "# Группа: ЦИБ - 241\n",
        "# Вариант 13\n",
        "# Матрица смежности\n",
        "def create_matrix(edges, num_vertices):\n",
        "    matrix = [[0 for _ in range(num_vertices)] for _ in range(num_vertices)]\n",
        "    for edge in edges:\n",
        "        u, v = edge\n",
        "        matrix[u - 1][v - 1] = 1\n",
        "        matrix[v - 1][u - 1] = 1\n",
        "    return matrix\n",
        "# Заданные рёбра\n",
        "edges = [(1, 2), (2, 3), (3, 4), (1, 4), (4, 5)]\n",
        "num_vertices = 5\n",
        "matrix = create_matrix(edges, num_vertices)\n",
        "print('Матрица смежности:')\n",
        "for row in matrix:\n",
        "    print(row)\n",
        "# Матрица инцидентности\n",
        "def create_incidence_matrix(edges, num_vertices):\n",
        "    num_edges = len(edges)\n",
        "    incidence_matrix = [[0 for _ in range(num_edges)] for _ in range(num_vertices)]\n",
        "    for edge_index, edge in enumerate(edges):\n",
        "        u, v = edge\n",
        "        incidence_matrix[u - 1][edge_index] = 1\n",
        "        incidence_matrix[v - 1][edge_index] = 1\n",
        "        return incidence_matrix\n",
        "incidence_matrix = create_incidence_matrix(edges, num_vertices)\n",
        "print(\"\\nМатрица инцидентности:\")\n",
        "for row in incidence_matrix:\n",
        "    print(row)\n",
        "\n",
        "# Поиск компонент связности\n",
        "def find_connected_components(matrix):\n",
        "    num_vertices = len(matrix)\n",
        "    visited = [False] * num_vertices\n",
        "    components = []\n",
        "    def dfs(vertex, current_component):\n",
        "        visited[vertex] = True\n",
        "        current_component.append(vertex + 1)\n",
        "        for neighbor, is_connected in enumerate(matrix[vertex]):\n",
        "            if is_connected and not visited[neighbor]:\n",
        "                dfs(neighbor, current_component)\n",
        "    for vertex in range(num_vertices):\n",
        "        if not visited[vertex]:\n",
        "            current_component = []\n",
        "            dfs(vertex, current_component)\n",
        "            components.append(current_component)\n",
        "    return components\n",
        "connected_components = find_connected_components(matrix)\n",
        "print(\"\\nКомпоненты связности графа:\")\n",
        "for i, component in enumerate(connected_components, start=1):\n",
        "    print(f\"Компонента {i}: {component}\")"
      ],
      "metadata": {
        "id": "nbTTdAYPuyg_",
        "colab": {
          "base_uri": "https://localhost:8080/"
        },
        "outputId": "23f85e94-7a21-445d-9236-5c3d0c3bfce1"
      },
      "execution_count": 4,
      "outputs": [
        {
          "output_type": "stream",
          "name": "stdout",
          "text": [
            "Матрица смежности:\n",
            "[0, 1, 0, 1, 0]\n",
            "[1, 0, 1, 0, 0]\n",
            "[0, 1, 0, 1, 0]\n",
            "[1, 0, 1, 0, 1]\n",
            "[0, 0, 0, 1, 0]\n",
            "\n",
            "Матрица инцидентности:\n",
            "[1, 0, 0, 0, 0]\n",
            "[1, 0, 0, 0, 0]\n",
            "[0, 0, 0, 0, 0]\n",
            "[0, 0, 0, 0, 0]\n",
            "[0, 0, 0, 0, 0]\n",
            "\n",
            "Компоненты связности графа:\n",
            "Компонента 1: [1, 2, 3, 4, 5]\n"
          ]
        }
      ]
    }
  ]
}