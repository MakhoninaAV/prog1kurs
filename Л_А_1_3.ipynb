{
  "nbformat": 4,
  "nbformat_minor": 0,
  "metadata": {
    "colab": {
      "provenance": [],
      "authorship_tag": "ABX9TyOkV4UbXSIfJ17PoyjGbMzn",
      "include_colab_link": true
    },
    "kernelspec": {
      "name": "python3",
      "display_name": "Python 3"
    },
    "language_info": {
      "name": "python"
    }
  },
  "cells": [
    {
      "cell_type": "markdown",
      "metadata": {
        "id": "view-in-github",
        "colab_type": "text"
      },
      "source": [
        "<a href=\"https://colab.research.google.com/github/MakhoninaAV/prog1kurs/blob/main/%D0%9B_%D0%90_1_3.ipynb\" target=\"_parent\"><img src=\"https://colab.research.google.com/assets/colab-badge.svg\" alt=\"Open In Colab\"/></a>"
      ]
    },
    {
      "cell_type": "code",
      "execution_count": 1,
      "metadata": {
        "colab": {
          "base_uri": "https://localhost:8080/"
        },
        "id": "7-1I0cZ2Jzbx",
        "outputId": "b4dcee41-8f2e-4f2c-ad69-25b1ea684fb1"
      },
      "outputs": [
        {
          "output_type": "stream",
          "name": "stdout",
          "text": [
            "Элемент 3 найден в списке.\n"
          ]
        }
      ],
      "source": [
        "def recursive_search(lst, target):\n",
        "    if not lst:\n",
        "        return False\n",
        "    if lst[0] == target:\n",
        "        return True\n",
        "    return recursive_search(lst[1:], target)\n",
        "if __name__ == \"__main__\":\n",
        "    my_list = [1, 2, 3, 4, 5]\n",
        "    target_value = 3\n",
        "    result = recursive_search(my_list, target_value)\n",
        "    print(f\"Элемент {target_value} {'найден' if result else 'не найден'} в списке.\")"
      ]
    }
  ]
}